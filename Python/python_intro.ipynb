{
 "cells": [
  {
   "cell_type": "markdown",
   "id": "aac2b517",
   "metadata": {},
   "source": [
    "# Variables"
   ]
  },
  {
   "cell_type": "markdown",
   "id": "e58bedfa",
   "metadata": {},
   "source": [
    "## Strings and numbers"
   ]
  },
  {
   "cell_type": "code",
   "execution_count": null,
   "id": "3bf90931",
   "metadata": {},
   "outputs": [],
   "source": [
    "# declaring and initialising an integer `a` that holds the value 10\n",
    "a: int = 10\n",
    "# declaring and initialising a float `b` that holds the value 1.5\n",
    "b: float = 1.5\n",
    "# declaring a float `c` that holds the sum of `a` and `b`\n",
    "c: float = a + b\n",
    "\n",
    "# declaring and initialising a string `d` that holds the value \"quantum\"\n",
    "d: str = \"quantum\"\n",
    "# declaring a string `e` that holds the value \"quantum\" in upper case\n",
    "e: str = d.upper()"
   ]
  },
  {
   "cell_type": "markdown",
   "id": "54b92581",
   "metadata": {},
   "source": [
    "## Lists"
   ]
  },
  {
   "cell_type": "code",
   "execution_count": null,
   "id": "0ec2ce35",
   "metadata": {},
   "outputs": [],
   "source": [
    "f: list[int] = [10, 20, 30, 40]\n",
    "# appending the value 50 to the list `f`\n",
    "f.append(50)"
   ]
  },
  {
   "cell_type": "markdown",
   "id": "b2799347",
   "metadata": {},
   "source": [
    "## Dictionary"
   ]
  },
  {
   "cell_type": "code",
   "execution_count": null,
   "id": "3c2c3975",
   "metadata": {},
   "outputs": [],
   "source": [
    "# declaring a dictionary `g` that holds the names of the planets and their masses\n",
    "g: dict[str, float] = {\n",
    "    \"Mercury\": 0.330e24,\n",
    "    \"Venus\": 4.87e24,\n",
    "    \"Earth\": 5.98e24,\n",
    "    \"Mars\": 0.642e24,\n",
    "    \"Jupiter\": 1898e24,\n",
    "    \"Saturn\": 568e24,\n",
    "    \"Uranus\": 86.8e24,\n",
    "    \"Neptune\": 102e24\n",
    "}\n",
    "# pop the planet \"Earth\" from the dictionary `g`\n",
    "g.pop(\"Earth\")"
   ]
  },
  {
   "cell_type": "markdown",
   "id": "81eeb5b4",
   "metadata": {},
   "source": [
    "# Conditions and loops"
   ]
  },
  {
   "cell_type": "markdown",
   "id": "4f9c6b33",
   "metadata": {},
   "source": [
    "## `if` condition"
   ]
  },
  {
   "cell_type": "code",
   "execution_count": null,
   "id": "501bb163",
   "metadata": {},
   "outputs": [],
   "source": [
    "\n",
    "traffic_light: str = \"green\"\n",
    "\n",
    "if traffic_light == \"green\":\n",
    "    print(\"You can drive!\")\n",
    "elif traffic_light == \"red\":\n",
    "    print(\"You cannot drive!\")\n",
    "elif traffic_light == \"yellow\":\n",
    "    print(\"Slow down and prepare to stop\")\n",
    "else:\n",
    "    print(\"Something went wrong\")"
   ]
  },
  {
   "cell_type": "markdown",
   "id": "1ee40e5a",
   "metadata": {},
   "source": [
    "## `for` loop"
   ]
  },
  {
   "cell_type": "code",
   "execution_count": null,
   "id": "595ce71e",
   "metadata": {},
   "outputs": [],
   "source": [
    "# declaring a list of planets\n",
    "planets: list[str] = [\"Mercury\", \"Venus\", \"Earth\", \"Mars\", \"Jupiter\", \"Saturn\", \"Uranus\", \"Neptune\"]\n",
    "# iterate over the list of planets and print each planet\n",
    "for planet in planets:\n",
    "    print(planet)\n"
   ]
  },
  {
   "cell_type": "markdown",
   "id": "2bd9394b",
   "metadata": {},
   "source": [
    "## `while` loop"
   ]
  },
  {
   "cell_type": "code",
   "execution_count": null,
   "id": "2ef3c4fb",
   "metadata": {},
   "outputs": [],
   "source": [
    "# declaring and initialising an integer `h` that holds the value 0\n",
    "h: int = 0\n",
    "# while `h` is less than 50 increment it by 10 and print `h` out\n",
    "while h < 50:\n",
    "    print(h)\n",
    "    h = h + 10"
   ]
  },
  {
   "cell_type": "markdown",
   "id": "f1352053",
   "metadata": {},
   "source": [
    "# Functions"
   ]
  },
  {
   "cell_type": "code",
   "execution_count": null,
   "id": "a0d26f1a",
   "metadata": {},
   "outputs": [
    {
     "ename": "",
     "evalue": "",
     "output_type": "error",
     "traceback": [
      "\u001b[1;31mRunning cells with 'Python 3.11.9' requires the ipykernel package.\n",
      "\u001b[1;31m<a href='command:jupyter.createPythonEnvAndSelectController'>Create a Python Environment</a> with the required packages."
     ]
    }
   ],
   "source": [
    "# define a function that welcomes a person to the course\n",
    "def welcome_person_to_course(name_of_person: str) -> None:\n",
    "    print(f\"Hi {name_of_person}, welcome \")\n",
    "\n",
    "welcome_person_to_course(\"Ron\")\n",
    "welcome_person_to_course(\"Andy\")\n",
    "welcome_person_to_course(\"Sendy\")"
   ]
  },
  {
   "cell_type": "code",
   "execution_count": null,
   "id": "2db484fb",
   "metadata": {},
   "outputs": [
    {
     "name": "stdout",
     "output_type": "stream",
     "text": [
      "100\n"
     ]
    }
   ],
   "source": [
    "# define a function that doubles a number\n",
    "def double_num(num: int) -> int:\n",
    "    return 2 * num\n",
    "\n",
    "print(double_num(50))"
   ]
  }
 ],
 "metadata": {
  "kernelspec": {
   "display_name": "Python 3",
   "language": "python",
   "name": "python3"
  },
  "language_info": {
   "codemirror_mode": {
    "name": "ipython",
    "version": 3
   },
   "file_extension": ".py",
   "mimetype": "text/x-python",
   "name": "python",
   "nbconvert_exporter": "python",
   "pygments_lexer": "ipython3",
   "version": "3.11.9"
  }
 },
 "nbformat": 4,
 "nbformat_minor": 5
}
