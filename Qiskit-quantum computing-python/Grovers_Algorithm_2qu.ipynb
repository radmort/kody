{
 "cells": [
  {
   "cell_type": "markdown",
   "id": "70580bca",
   "metadata": {},
   "source": [
    "Grover's Algorithm: 2qubits; Oracle"
   ]
  },
  {
   "cell_type": "code",
   "execution_count": 4,
   "id": "173c0b0b",
   "metadata": {},
   "outputs": [
    {
     "name": "stdout",
     "output_type": "stream",
     "text": [
      "State of quantum circuit: Statevector([0.70710678+0.j, 0.70710678+0.j, 0.        +0.j,\n",
      "             0.        +0.j],\n",
      "            dims=(2, 2))\n"
     ]
    },
    {
     "data": {
      "image/png": "[encoded data removed]",
      "text/plain": [
       "<Figure size 287.294x200.667 with 1 Axes>"
      ]
     },
     "execution_count": 4,
     "metadata": {},
     "output_type": "execute_result"
    }
   ],
   "source": [
    "from qiskit import QuantumCircuit\n",
    "from qiskit.quantum_info import Statevector\n",
    "from qiskit.primitives import StatevectorSampler  \n",
    "\n",
    "qc = QuantumCircuit(2)\n",
    "\n",
    "qc.h(0)\n",
    "#qc.h(1)\n",
    "\n",
    "#tag 11\n",
    "qc.cz(0,1)\n",
    "#qc.x(0)\n",
    "\n",
    "\n",
    "state = Statevector(qc)\n",
    "\n",
    "print(\"State of quantum circuit:\", state)\n",
    "\n",
    "qc.draw(\"mpl\")"
   ]
  },
  {
   "cell_type": "markdown",
   "id": "40cb1d88",
   "metadata": {},
   "source": [
    "Grover diffusion "
   ]
  },
  {
   "cell_type": "code",
   "execution_count": 6,
   "id": "4672cb1a",
   "metadata": {},
   "outputs": [
    {
     "name": "stdout",
     "output_type": "stream",
     "text": [
      "State of quantum circuit: Statevector([-1.26316153e-34+0.j, -2.36158002e-17+0.j, -9.52420783e-18+0.j,\n",
      "             -1.00000000e+00+0.j],\n",
      "            dims=(2, 2))\n"
     ]
    },
    {
     "data": {
      "image/png": "[encoded data removed]",
      "text/plain": [
       "<Figure size 705.35x200.667 with 1 Axes>"
      ]
     },
     "execution_count": 6,
     "metadata": {},
     "output_type": "execute_result"
    }
   ],
   "source": [
    "from qiskit import QuantumCircuit\n",
    "from qiskit.quantum_info import Statevector\n",
    "\n",
    "qc = QuantumCircuit(2)\n",
    "\n",
    "qc.h(0)\n",
    "qc.h(1)\n",
    "\n",
    "qc.cz(0,1)\n",
    "\n",
    "qc.h(0)\n",
    "qc.h(1)\n",
    "\n",
    "qc.x(0)\n",
    "qc.x(1)\n",
    "\n",
    "qc.cz(0,1)\n",
    "\n",
    "qc.x(0)\n",
    "qc.x(1)\n",
    "\n",
    "qc.h(0)\n",
    "qc.h(1)\n",
    "\n",
    "state = Statevector(qc)\n",
    "\n",
    "print(\"State of quantum circuit:\", state)\n",
    "qc.draw(\"mpl\")"
   ]
  },
  {
   "cell_type": "markdown",
   "id": "da5c4ff5",
   "metadata": {},
   "source": [
    "Grover's Algorithm Measurement"
   ]
  },
  {
   "cell_type": "code",
   "execution_count": 9,
   "id": "42af8f6d",
   "metadata": {},
   "outputs": [
    {
     "name": "stdout",
     "output_type": "stream",
     "text": [
      "State of quantum circuit: Statevector([-2.36158002e-17+0.j, -1.26316153e-34+0.j, -1.00000000e+00+0.j,\n",
      "             -9.52420783e-18+0.j],\n",
      "            dims=(2, 2))\n",
      "['10']\n"
     ]
    },
    {
     "data": {
      "image/png": "[encoded data removed]",
      "text/plain": [
       "<Figure size 1165.66x284.278 with 1 Axes>"
      ]
     },
     "execution_count": 12,
     "metadata": {},
     "output_type": "execute_result"
    }
   ],
   "source": [
    "from qiskit import QuantumCircuit\n",
    "from qiskit.quantum_info import Statevector\n",
    "from qiskit.primitives import StatevectorSampler\n",
    "\n",
    "qc = QuantumCircuit(2)\n",
    "\n",
    "qc.h(0)\n",
    "qc.h(1)\n",
    "\n",
    "qc.x(0)\n",
    "\n",
    "qc.cz(0,1)\n",
    "qc.x(0)\n",
    "\n",
    "qc.h(0)\n",
    "qc.h(1)\n",
    "\n",
    "qc.x(0)\n",
    "qc.x(1)\n",
    "\n",
    "qc.cz(0,1)\n",
    "\n",
    "qc.x(0)\n",
    "qc.x(1)\n",
    "\n",
    "qc.h(0)\n",
    "qc.h(1)\n",
    "\n",
    "statet = Statevector(qc)\n",
    "\n",
    "qc.measure_all()\n",
    "\n",
    "sampler = StatevectorSampler()\n",
    "\n",
    "job = sampler.run([qc],shots=1)\n",
    "\n",
    "result = job.result()[0]\n",
    "\n",
    "state = result.data.meas.get_bitstrings()\n",
    "\n",
    "\n",
    "print(\"State of quantum circuit:\", statet)\n",
    "\n",
    "print(state)\n",
    "qc.draw(\"mpl\")"
   ]
  }
 ],
 "metadata": {
  "kernelspec": {
   "display_name": ".venv",
   "language": "python",
   "name": "python3"
  },
  "language_info": {
   "codemirror_mode": {
    "name": "ipython",
    "version": 3
   },
   "file_extension": ".py",
   "mimetype": "text/x-python",
   "name": "python",
   "nbconvert_exporter": "python",
   "pygments_lexer": "ipython3",
   "version": "3.11.9"
  }
 },
 "nbformat": 4,
 "nbformat_minor": 5
}
